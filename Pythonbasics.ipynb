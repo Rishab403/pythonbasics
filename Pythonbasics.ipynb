{
 "cells": [
  {
   "cell_type": "code",
   "execution_count": 1,
   "id": "67290cc6",
   "metadata": {},
   "outputs": [],
   "source": [
    "# In order to execute the current cell, press Ctrl + Enter\n",
    "# In order to execute the current cell and switch to the next new cell, press Shift + Enter"
   ]
  },
  {
   "cell_type": "code",
   "execution_count": 2,
   "id": "2944c270",
   "metadata": {},
   "outputs": [
    {
     "name": "stdout",
     "output_type": "stream",
     "text": [
      "Addition 11+5 : 16\n",
      "Subtraction 11-5 : 6\n",
      "Multiplication 11*5 : 55\n",
      "Division 11/5 : 2.2\n",
      "Division (// returns quotient) 11//5 : 2\n",
      "Division (% returns remainder) 11%5 : 1\n",
      "Exponent 11**5 : 161051\n"
     ]
    }
   ],
   "source": [
    "a = 11 + 5  # addition\n",
    "print(\"Addition 11+5 :\", a)\n",
    "\n",
    "b = 11 - 5  # subtraction\n",
    "print(\"Subtraction 11-5 :\", b)\n",
    "\n",
    "c = 11 * 5  # multiplication\n",
    "print(\"Multiplication 11*5 :\", c)\n",
    "\n",
    "d = 11 / 5  # division\n",
    "print(\"Division 11/5 :\", d)\n",
    "\n",
    "e = 11 // 5  # returns quotient as result\n",
    "print(\"Division (// returns quotient) 11//5 :\", e)\n",
    "\n",
    "f = 11 % 5  # (modulus) returns remainder as result\n",
    "print(\"Division (% returns remainder) 11%5 :\", f)\n",
    "\n",
    "g = 11**5  # exponents\n",
    "print(\"Exponent 11**5 :\", g)"
   ]
  },
  {
   "cell_type": "code",
   "execution_count": null,
   "id": "76a4f2b2",
   "metadata": {},
   "outputs": [],
   "source": []
  }
 ],
 "metadata": {
  "kernelspec": {
   "display_name": "Python 3 (ipykernel)",
   "language": "python",
   "name": "python3"
  },
  "language_info": {
   "codemirror_mode": {
    "name": "ipython",
    "version": 3
   },
   "file_extension": ".py",
   "mimetype": "text/x-python",
   "name": "python",
   "nbconvert_exporter": "python",
   "pygments_lexer": "ipython3",
   "version": "3.8.8"
  }
 },
 "nbformat": 4,
 "nbformat_minor": 5
}
